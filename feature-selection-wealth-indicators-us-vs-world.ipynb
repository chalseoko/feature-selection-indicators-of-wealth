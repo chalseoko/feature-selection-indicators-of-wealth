{
 "cells": [
  {
   "cell_type": "code",
   "execution_count": 1,
   "id": "898aab83",
   "metadata": {
    "_cell_guid": "b1076dfc-b9ad-4769-8c92-a6c4dae69d19",
    "_uuid": "8f2839f25d086af736a60e9eeb907d3b93b6e0e5",
    "execution": {
     "iopub.execute_input": "2023-12-09T22:43:59.321696Z",
     "iopub.status.busy": "2023-12-09T22:43:59.321021Z",
     "iopub.status.idle": "2023-12-09T22:44:03.372069Z",
     "shell.execute_reply": "2023-12-09T22:44:03.370803Z"
    },
    "papermill": {
     "duration": 4.063384,
     "end_time": "2023-12-09T22:44:03.375244",
     "exception": false,
     "start_time": "2023-12-09T22:43:59.311860",
     "status": "completed"
    },
    "tags": []
   },
   "outputs": [],
   "source": [
    "import pandas as pd\n",
    "import numpy as np\n",
    "import matplotlib.pyplot as plt\n",
    "import warnings\n",
    "\n",
    "from sklearn.compose import make_column_transformer\n",
    "from sklearn.metrics import accuracy_score, classification_report\n",
    "from sklearn.model_selection import train_test_split\n",
    "from sklearn.preprocessing import OneHotEncoder, StandardScaler\n",
    "\n",
    "import xgboost as xgb\n",
    "import optuna\n",
    "\n",
    "warnings.filterwarnings(\"ignore\")"
   ]
  },
  {
   "cell_type": "markdown",
   "id": "8b9d11c4",
   "metadata": {
    "papermill": {
     "duration": 0.005907,
     "end_time": "2023-12-09T22:44:03.390169",
     "exception": false,
     "start_time": "2023-12-09T22:44:03.384262",
     "status": "completed"
    },
    "tags": []
   },
   "source": [
    "# Feature Importance: Indicators of Wealth (US vs. World)"
   ]
  },
  {
   "cell_type": "code",
   "execution_count": 2,
   "id": "de6471b7",
   "metadata": {
    "execution": {
     "iopub.execute_input": "2023-12-09T22:44:03.404703Z",
     "iopub.status.busy": "2023-12-09T22:44:03.404099Z",
     "iopub.status.idle": "2023-12-09T22:44:03.489753Z",
     "shell.execute_reply": "2023-12-09T22:44:03.488606Z"
    },
    "papermill": {
     "duration": 0.09719,
     "end_time": "2023-12-09T22:44:03.493605",
     "exception": false,
     "start_time": "2023-12-09T22:44:03.396415",
     "status": "completed"
    },
    "tags": []
   },
   "outputs": [
    {
     "name": "stdout",
     "output_type": "stream",
     "text": [
      "\n",
      "Billionaires in the world:  2640\n",
      "Countries with billionaires:  78\n",
      "\n",
      "All Features:  \n",
      " ['rank' 'finalWorth' 'category' 'personName' 'age' 'country' 'city'\n",
      " 'source' 'industries' 'countryOfCitizenship' 'organization' 'selfMade'\n",
      " 'status' 'gender' 'birthDate' 'lastName' 'firstName' 'title' 'state'\n",
      " 'residenceStateRegion' 'birthYear' 'birthMonth' 'birthDay' 'cpi_country'\n",
      " 'cpi_change_country' 'gdp_country' 'gross_tertiary_education_enrollment'\n",
      " 'gross_primary_education_enrollment_country' 'life_expectancy_country'\n",
      " 'tax_revenue_country_country' 'total_tax_rate_country'\n",
      " 'population_country' 'latitude_country' 'longitude_country']\n"
     ]
    }
   ],
   "source": [
    "df = pd.read_csv(filepath_or_buffer='/kaggle/input/billionaires-statistics-dataset/Billionaires Statistics Dataset.csv')\n",
    "df.drop(['date'], inplace=True, axis=1)\n",
    "\n",
    "print(\"\\nBillionaires in the world: \", len(df))\n",
    "billionaires_by_country = df.groupby(['country'])['personName'].count().sort_values(ascending=False)\n",
    "print(\"Countries with billionaires: \", len(billionaires_by_country))\n",
    "\n",
    "print(\"\\nAll Features: \", \"\\n\", df.columns.values)"
   ]
  },
  {
   "cell_type": "code",
   "execution_count": 3,
   "id": "2baf8b14",
   "metadata": {
    "execution": {
     "iopub.execute_input": "2023-12-09T22:44:03.508142Z",
     "iopub.status.busy": "2023-12-09T22:44:03.507701Z",
     "iopub.status.idle": "2023-12-09T22:44:03.570252Z",
     "shell.execute_reply": "2023-12-09T22:44:03.568789Z"
    },
    "papermill": {
     "duration": 0.072616,
     "end_time": "2023-12-09T22:44:03.572687",
     "exception": false,
     "start_time": "2023-12-09T22:44:03.500071",
     "status": "completed"
    },
    "tags": []
   },
   "outputs": [
    {
     "name": "stdout",
     "output_type": "stream",
     "text": [
      "Categorical Data Summary: \n"
     ]
    },
    {
     "data": {
      "text/html": [
       "<div>\n",
       "<style scoped>\n",
       "    .dataframe tbody tr th:only-of-type {\n",
       "        vertical-align: middle;\n",
       "    }\n",
       "\n",
       "    .dataframe tbody tr th {\n",
       "        vertical-align: top;\n",
       "    }\n",
       "\n",
       "    .dataframe thead th {\n",
       "        text-align: right;\n",
       "    }\n",
       "</style>\n",
       "<table border=\"1\" class=\"dataframe\">\n",
       "  <thead>\n",
       "    <tr style=\"text-align: right;\">\n",
       "      <th></th>\n",
       "      <th>count</th>\n",
       "      <th>unique</th>\n",
       "      <th>top</th>\n",
       "      <th>freq</th>\n",
       "    </tr>\n",
       "  </thead>\n",
       "  <tbody>\n",
       "    <tr>\n",
       "      <th>category</th>\n",
       "      <td>2640</td>\n",
       "      <td>18</td>\n",
       "      <td>Finance &amp; Investments</td>\n",
       "      <td>372</td>\n",
       "    </tr>\n",
       "    <tr>\n",
       "      <th>personName</th>\n",
       "      <td>2640</td>\n",
       "      <td>2638</td>\n",
       "      <td>Wang Yanqing &amp; family</td>\n",
       "      <td>2</td>\n",
       "    </tr>\n",
       "    <tr>\n",
       "      <th>country</th>\n",
       "      <td>2602</td>\n",
       "      <td>78</td>\n",
       "      <td>United States</td>\n",
       "      <td>754</td>\n",
       "    </tr>\n",
       "    <tr>\n",
       "      <th>city</th>\n",
       "      <td>2568</td>\n",
       "      <td>741</td>\n",
       "      <td>New York</td>\n",
       "      <td>99</td>\n",
       "    </tr>\n",
       "    <tr>\n",
       "      <th>source</th>\n",
       "      <td>2640</td>\n",
       "      <td>906</td>\n",
       "      <td>Real estate</td>\n",
       "      <td>151</td>\n",
       "    </tr>\n",
       "    <tr>\n",
       "      <th>industries</th>\n",
       "      <td>2640</td>\n",
       "      <td>18</td>\n",
       "      <td>Finance &amp; Investments</td>\n",
       "      <td>372</td>\n",
       "    </tr>\n",
       "    <tr>\n",
       "      <th>countryOfCitizenship</th>\n",
       "      <td>2640</td>\n",
       "      <td>77</td>\n",
       "      <td>United States</td>\n",
       "      <td>735</td>\n",
       "    </tr>\n",
       "    <tr>\n",
       "      <th>organization</th>\n",
       "      <td>325</td>\n",
       "      <td>294</td>\n",
       "      <td>Meta Platforms</td>\n",
       "      <td>4</td>\n",
       "    </tr>\n",
       "    <tr>\n",
       "      <th>selfMade</th>\n",
       "      <td>2640</td>\n",
       "      <td>2</td>\n",
       "      <td>True</td>\n",
       "      <td>1812</td>\n",
       "    </tr>\n",
       "    <tr>\n",
       "      <th>status</th>\n",
       "      <td>2640</td>\n",
       "      <td>6</td>\n",
       "      <td>D</td>\n",
       "      <td>1223</td>\n",
       "    </tr>\n",
       "    <tr>\n",
       "      <th>gender</th>\n",
       "      <td>2640</td>\n",
       "      <td>2</td>\n",
       "      <td>M</td>\n",
       "      <td>2303</td>\n",
       "    </tr>\n",
       "    <tr>\n",
       "      <th>birthDate</th>\n",
       "      <td>2564</td>\n",
       "      <td>2060</td>\n",
       "      <td>1/1/1965 0:00</td>\n",
       "      <td>19</td>\n",
       "    </tr>\n",
       "    <tr>\n",
       "      <th>lastName</th>\n",
       "      <td>2640</td>\n",
       "      <td>1736</td>\n",
       "      <td>Li</td>\n",
       "      <td>44</td>\n",
       "    </tr>\n",
       "    <tr>\n",
       "      <th>firstName</th>\n",
       "      <td>2637</td>\n",
       "      <td>1770</td>\n",
       "      <td>John</td>\n",
       "      <td>40</td>\n",
       "    </tr>\n",
       "    <tr>\n",
       "      <th>title</th>\n",
       "      <td>339</td>\n",
       "      <td>97</td>\n",
       "      <td>Investor</td>\n",
       "      <td>44</td>\n",
       "    </tr>\n",
       "    <tr>\n",
       "      <th>state</th>\n",
       "      <td>753</td>\n",
       "      <td>45</td>\n",
       "      <td>California</td>\n",
       "      <td>178</td>\n",
       "    </tr>\n",
       "    <tr>\n",
       "      <th>residenceStateRegion</th>\n",
       "      <td>747</td>\n",
       "      <td>5</td>\n",
       "      <td>West</td>\n",
       "      <td>248</td>\n",
       "    </tr>\n",
       "    <tr>\n",
       "      <th>gdp_country</th>\n",
       "      <td>2476</td>\n",
       "      <td>68</td>\n",
       "      <td>$21,427,700,000,000</td>\n",
       "      <td>754</td>\n",
       "    </tr>\n",
       "  </tbody>\n",
       "</table>\n",
       "</div>"
      ],
      "text/plain": [
       "                     count unique                    top  freq\n",
       "category              2640     18  Finance & Investments   372\n",
       "personName            2640   2638  Wang Yanqing & family     2\n",
       "country               2602     78          United States   754\n",
       "city                  2568    741               New York    99\n",
       "source                2640    906            Real estate   151\n",
       "industries            2640     18  Finance & Investments   372\n",
       "countryOfCitizenship  2640     77          United States   735\n",
       "organization           325    294         Meta Platforms     4\n",
       "selfMade              2640      2                   True  1812\n",
       "status                2640      6                      D  1223\n",
       "gender                2640      2                      M  2303\n",
       "birthDate             2564   2060          1/1/1965 0:00    19\n",
       "lastName              2640   1736                     Li    44\n",
       "firstName             2637   1770                   John    40\n",
       "title                  339     97               Investor    44\n",
       "state                  753     45             California   178\n",
       "residenceStateRegion   747      5                   West   248\n",
       "gdp_country           2476     68   $21,427,700,000,000    754"
      ]
     },
     "execution_count": 3,
     "metadata": {},
     "output_type": "execute_result"
    }
   ],
   "source": [
    "print(\"Categorical Data Summary: \")\n",
    "df.select_dtypes(['O', 'bool']).describe().T"
   ]
  },
  {
   "cell_type": "code",
   "execution_count": 4,
   "id": "9c4b5a54",
   "metadata": {
    "execution": {
     "iopub.execute_input": "2023-12-09T22:44:03.588178Z",
     "iopub.status.busy": "2023-12-09T22:44:03.587754Z",
     "iopub.status.idle": "2023-12-09T22:44:03.653688Z",
     "shell.execute_reply": "2023-12-09T22:44:03.652358Z"
    },
    "papermill": {
     "duration": 0.076994,
     "end_time": "2023-12-09T22:44:03.656312",
     "exception": false,
     "start_time": "2023-12-09T22:44:03.579318",
     "status": "completed"
    },
    "tags": []
   },
   "outputs": [
    {
     "name": "stdout",
     "output_type": "stream",
     "text": [
      "Numerical Data Summary: \n"
     ]
    },
    {
     "data": {
      "text/html": [
       "<div>\n",
       "<style scoped>\n",
       "    .dataframe tbody tr th:only-of-type {\n",
       "        vertical-align: middle;\n",
       "    }\n",
       "\n",
       "    .dataframe tbody tr th {\n",
       "        vertical-align: top;\n",
       "    }\n",
       "\n",
       "    .dataframe thead th {\n",
       "        text-align: right;\n",
       "    }\n",
       "</style>\n",
       "<table border=\"1\" class=\"dataframe\">\n",
       "  <thead>\n",
       "    <tr style=\"text-align: right;\">\n",
       "      <th></th>\n",
       "      <th>count</th>\n",
       "      <th>mean</th>\n",
       "      <th>std</th>\n",
       "      <th>min</th>\n",
       "      <th>50%</th>\n",
       "      <th>max</th>\n",
       "    </tr>\n",
       "  </thead>\n",
       "  <tbody>\n",
       "    <tr>\n",
       "      <th>rank</th>\n",
       "      <td>2640.0</td>\n",
       "      <td>1.289159e+03</td>\n",
       "      <td>7.396937e+02</td>\n",
       "      <td>1.000000</td>\n",
       "      <td>1.312000e+03</td>\n",
       "      <td>2.540000e+03</td>\n",
       "    </tr>\n",
       "    <tr>\n",
       "      <th>finalWorth</th>\n",
       "      <td>2640.0</td>\n",
       "      <td>4.623788e+03</td>\n",
       "      <td>9.834241e+03</td>\n",
       "      <td>1000.000000</td>\n",
       "      <td>2.300000e+03</td>\n",
       "      <td>2.110000e+05</td>\n",
       "    </tr>\n",
       "    <tr>\n",
       "      <th>age</th>\n",
       "      <td>2575.0</td>\n",
       "      <td>6.514019e+01</td>\n",
       "      <td>1.325810e+01</td>\n",
       "      <td>18.000000</td>\n",
       "      <td>6.500000e+01</td>\n",
       "      <td>1.010000e+02</td>\n",
       "    </tr>\n",
       "    <tr>\n",
       "      <th>birthYear</th>\n",
       "      <td>2564.0</td>\n",
       "      <td>1.957183e+03</td>\n",
       "      <td>1.328252e+01</td>\n",
       "      <td>1921.000000</td>\n",
       "      <td>1.957000e+03</td>\n",
       "      <td>2.004000e+03</td>\n",
       "    </tr>\n",
       "    <tr>\n",
       "      <th>birthMonth</th>\n",
       "      <td>2564.0</td>\n",
       "      <td>5.740250e+00</td>\n",
       "      <td>3.710085e+00</td>\n",
       "      <td>1.000000</td>\n",
       "      <td>6.000000e+00</td>\n",
       "      <td>1.200000e+01</td>\n",
       "    </tr>\n",
       "    <tr>\n",
       "      <th>birthDay</th>\n",
       "      <td>2564.0</td>\n",
       "      <td>1.209984e+01</td>\n",
       "      <td>9.918876e+00</td>\n",
       "      <td>1.000000</td>\n",
       "      <td>1.100000e+01</td>\n",
       "      <td>3.100000e+01</td>\n",
       "    </tr>\n",
       "    <tr>\n",
       "      <th>cpi_country</th>\n",
       "      <td>2456.0</td>\n",
       "      <td>1.277552e+02</td>\n",
       "      <td>2.645295e+01</td>\n",
       "      <td>99.550000</td>\n",
       "      <td>1.172400e+02</td>\n",
       "      <td>2.885700e+02</td>\n",
       "    </tr>\n",
       "    <tr>\n",
       "      <th>cpi_change_country</th>\n",
       "      <td>2456.0</td>\n",
       "      <td>4.364169e+00</td>\n",
       "      <td>3.623763e+00</td>\n",
       "      <td>-1.900000</td>\n",
       "      <td>2.900000e+00</td>\n",
       "      <td>5.350000e+01</td>\n",
       "    </tr>\n",
       "    <tr>\n",
       "      <th>gross_tertiary_education_enrollment</th>\n",
       "      <td>2458.0</td>\n",
       "      <td>6.722567e+01</td>\n",
       "      <td>2.134343e+01</td>\n",
       "      <td>4.000000</td>\n",
       "      <td>6.560000e+01</td>\n",
       "      <td>1.366000e+02</td>\n",
       "    </tr>\n",
       "    <tr>\n",
       "      <th>gross_primary_education_enrollment_country</th>\n",
       "      <td>2459.0</td>\n",
       "      <td>1.028585e+02</td>\n",
       "      <td>4.710977e+00</td>\n",
       "      <td>84.700000</td>\n",
       "      <td>1.018000e+02</td>\n",
       "      <td>1.421000e+02</td>\n",
       "    </tr>\n",
       "    <tr>\n",
       "      <th>life_expectancy_country</th>\n",
       "      <td>2458.0</td>\n",
       "      <td>7.812282e+01</td>\n",
       "      <td>3.730099e+00</td>\n",
       "      <td>54.300000</td>\n",
       "      <td>7.850000e+01</td>\n",
       "      <td>8.420000e+01</td>\n",
       "    </tr>\n",
       "    <tr>\n",
       "      <th>tax_revenue_country_country</th>\n",
       "      <td>2457.0</td>\n",
       "      <td>1.254624e+01</td>\n",
       "      <td>5.368625e+00</td>\n",
       "      <td>0.100000</td>\n",
       "      <td>9.600000e+00</td>\n",
       "      <td>3.720000e+01</td>\n",
       "    </tr>\n",
       "    <tr>\n",
       "      <th>total_tax_rate_country</th>\n",
       "      <td>2458.0</td>\n",
       "      <td>4.396334e+01</td>\n",
       "      <td>1.214530e+01</td>\n",
       "      <td>9.900000</td>\n",
       "      <td>4.120000e+01</td>\n",
       "      <td>1.063000e+02</td>\n",
       "    </tr>\n",
       "    <tr>\n",
       "      <th>population_country</th>\n",
       "      <td>2476.0</td>\n",
       "      <td>5.102053e+08</td>\n",
       "      <td>5.542447e+08</td>\n",
       "      <td>38019.000000</td>\n",
       "      <td>3.282395e+08</td>\n",
       "      <td>1.397715e+09</td>\n",
       "    </tr>\n",
       "    <tr>\n",
       "      <th>latitude_country</th>\n",
       "      <td>2476.0</td>\n",
       "      <td>3.490359e+01</td>\n",
       "      <td>1.700350e+01</td>\n",
       "      <td>-40.900557</td>\n",
       "      <td>3.709024e+01</td>\n",
       "      <td>6.192411e+01</td>\n",
       "    </tr>\n",
       "    <tr>\n",
       "      <th>longitude_country</th>\n",
       "      <td>2476.0</td>\n",
       "      <td>1.258316e+01</td>\n",
       "      <td>8.676299e+01</td>\n",
       "      <td>-106.346771</td>\n",
       "      <td>1.045153e+01</td>\n",
       "      <td>1.748860e+02</td>\n",
       "    </tr>\n",
       "  </tbody>\n",
       "</table>\n",
       "</div>"
      ],
      "text/plain": [
       "                                             count          mean  \\\n",
       "rank                                        2640.0  1.289159e+03   \n",
       "finalWorth                                  2640.0  4.623788e+03   \n",
       "age                                         2575.0  6.514019e+01   \n",
       "birthYear                                   2564.0  1.957183e+03   \n",
       "birthMonth                                  2564.0  5.740250e+00   \n",
       "birthDay                                    2564.0  1.209984e+01   \n",
       "cpi_country                                 2456.0  1.277552e+02   \n",
       "cpi_change_country                          2456.0  4.364169e+00   \n",
       "gross_tertiary_education_enrollment         2458.0  6.722567e+01   \n",
       "gross_primary_education_enrollment_country  2459.0  1.028585e+02   \n",
       "life_expectancy_country                     2458.0  7.812282e+01   \n",
       "tax_revenue_country_country                 2457.0  1.254624e+01   \n",
       "total_tax_rate_country                      2458.0  4.396334e+01   \n",
       "population_country                          2476.0  5.102053e+08   \n",
       "latitude_country                            2476.0  3.490359e+01   \n",
       "longitude_country                           2476.0  1.258316e+01   \n",
       "\n",
       "                                                     std           min  \\\n",
       "rank                                        7.396937e+02      1.000000   \n",
       "finalWorth                                  9.834241e+03   1000.000000   \n",
       "age                                         1.325810e+01     18.000000   \n",
       "birthYear                                   1.328252e+01   1921.000000   \n",
       "birthMonth                                  3.710085e+00      1.000000   \n",
       "birthDay                                    9.918876e+00      1.000000   \n",
       "cpi_country                                 2.645295e+01     99.550000   \n",
       "cpi_change_country                          3.623763e+00     -1.900000   \n",
       "gross_tertiary_education_enrollment         2.134343e+01      4.000000   \n",
       "gross_primary_education_enrollment_country  4.710977e+00     84.700000   \n",
       "life_expectancy_country                     3.730099e+00     54.300000   \n",
       "tax_revenue_country_country                 5.368625e+00      0.100000   \n",
       "total_tax_rate_country                      1.214530e+01      9.900000   \n",
       "population_country                          5.542447e+08  38019.000000   \n",
       "latitude_country                            1.700350e+01    -40.900557   \n",
       "longitude_country                           8.676299e+01   -106.346771   \n",
       "\n",
       "                                                     50%           max  \n",
       "rank                                        1.312000e+03  2.540000e+03  \n",
       "finalWorth                                  2.300000e+03  2.110000e+05  \n",
       "age                                         6.500000e+01  1.010000e+02  \n",
       "birthYear                                   1.957000e+03  2.004000e+03  \n",
       "birthMonth                                  6.000000e+00  1.200000e+01  \n",
       "birthDay                                    1.100000e+01  3.100000e+01  \n",
       "cpi_country                                 1.172400e+02  2.885700e+02  \n",
       "cpi_change_country                          2.900000e+00  5.350000e+01  \n",
       "gross_tertiary_education_enrollment         6.560000e+01  1.366000e+02  \n",
       "gross_primary_education_enrollment_country  1.018000e+02  1.421000e+02  \n",
       "life_expectancy_country                     7.850000e+01  8.420000e+01  \n",
       "tax_revenue_country_country                 9.600000e+00  3.720000e+01  \n",
       "total_tax_rate_country                      4.120000e+01  1.063000e+02  \n",
       "population_country                          3.282395e+08  1.397715e+09  \n",
       "latitude_country                            3.709024e+01  6.192411e+01  \n",
       "longitude_country                           1.045153e+01  1.748860e+02  "
      ]
     },
     "execution_count": 4,
     "metadata": {},
     "output_type": "execute_result"
    }
   ],
   "source": [
    "print(\"Numerical Data Summary: \")\n",
    "df.describe(percentiles=[]).T"
   ]
  },
  {
   "cell_type": "code",
   "execution_count": 5,
   "id": "957f5261",
   "metadata": {
    "execution": {
     "iopub.execute_input": "2023-12-09T22:44:03.673318Z",
     "iopub.status.busy": "2023-12-09T22:44:03.672778Z",
     "iopub.status.idle": "2023-12-09T22:44:03.744115Z",
     "shell.execute_reply": "2023-12-09T22:44:03.742267Z"
    },
    "papermill": {
     "duration": 0.083,
     "end_time": "2023-12-09T22:44:03.746622",
     "exception": false,
     "start_time": "2023-12-09T22:44:03.663622",
     "status": "completed"
    },
    "tags": []
   },
   "outputs": [
    {
     "name": "stdout",
     "output_type": "stream",
     "text": [
      "Numerical Features:\n",
      "['finalWorth' 'age' 'cpi_country' 'cpi_change_country' 'gdp_country'\n",
      " 'gross_tertiary_education_enrollment'\n",
      " 'gross_primary_education_enrollment_country' 'life_expectancy_country'\n",
      " 'tax_revenue_country_country' 'total_tax_rate_country'\n",
      " 'population_country']\n",
      "\n",
      "Categorical Features:\n",
      "['category' 'country' 'city' 'industries' 'countryOfCitizenship' 'gender'\n",
      " 'state']\n"
     ]
    }
   ],
   "source": [
    "# Dropping columns not useful for analysis, or not worth encoding in model\n",
    "wealth_df = df.drop([\"rank\", \"personName\", \"source\", \"organization\", \"title\", \"status\", \"birthDate\", \"birthYear\", \"firstName\", \"lastName\",\n",
    "                    \"longitude_country\", \"latitude_country\", \"birthMonth\", \"birthDay\", \"residenceStateRegion\"], axis=1)\n",
    "wealth_df['gdp_country'] = wealth_df['gdp_country'].str.replace('$','').replace(',','', regex=True).astype(float)\n",
    "\n",
    "print(\"Numerical Features:\")\n",
    "numerical_features = wealth_df.describe(include=np.number).columns.values\n",
    "print(numerical_features)\n",
    "\n",
    "print(\"\\nCategorical Features:\")\n",
    "categorical_features = wealth_df.describe(include=['O']).columns.values\n",
    "print(categorical_features)"
   ]
  },
  {
   "cell_type": "markdown",
   "id": "dc66e9a2",
   "metadata": {
    "papermill": {
     "duration": 0.006864,
     "end_time": "2023-12-09T22:44:03.760711",
     "exception": false,
     "start_time": "2023-12-09T22:44:03.753847",
     "status": "completed"
    },
    "tags": []
   },
   "source": [
    "After removing features we don't want, we still have some empty or null values. To deal with these we can change to a model that accounts for that: HistGradientBooster."
   ]
  },
  {
   "cell_type": "code",
   "execution_count": 6,
   "id": "efbca98c",
   "metadata": {
    "execution": {
     "iopub.execute_input": "2023-12-09T22:44:03.777421Z",
     "iopub.status.busy": "2023-12-09T22:44:03.776985Z",
     "iopub.status.idle": "2023-12-09T22:44:03.786203Z",
     "shell.execute_reply": "2023-12-09T22:44:03.785068Z"
    },
    "papermill": {
     "duration": 0.020692,
     "end_time": "2023-12-09T22:44:03.788598",
     "exception": false,
     "start_time": "2023-12-09T22:44:03.767906",
     "status": "completed"
    },
    "tags": []
   },
   "outputs": [
    {
     "data": {
      "text/plain": [
       "selfMade\n",
       "True     1812\n",
       "False     828\n",
       "Name: count, dtype: int64"
      ]
     },
     "execution_count": 6,
     "metadata": {},
     "output_type": "execute_result"
    }
   ],
   "source": [
    "wealth_df.selfMade.value_counts()"
   ]
  },
  {
   "cell_type": "code",
   "execution_count": 7,
   "id": "29f15eb4",
   "metadata": {
    "execution": {
     "iopub.execute_input": "2023-12-09T22:44:03.805237Z",
     "iopub.status.busy": "2023-12-09T22:44:03.804775Z",
     "iopub.status.idle": "2023-12-09T22:44:03.909117Z",
     "shell.execute_reply": "2023-12-09T22:44:03.907964Z"
    },
    "papermill": {
     "duration": 0.116287,
     "end_time": "2023-12-09T22:44:03.912174",
     "exception": false,
     "start_time": "2023-12-09T22:44:03.795887",
     "status": "completed"
    },
    "tags": []
   },
   "outputs": [
    {
     "name": "stdout",
     "output_type": "stream",
     "text": [
      "Training set size:  1980\n",
      "Testing set size:  660\n",
      "\n",
      "Self made billionaires:  1812\n",
      "Inherited billionaires:  828\n"
     ]
    }
   ],
   "source": [
    "x = wealth_df.drop(columns=['selfMade'])\n",
    "y = wealth_df.selfMade.astype('int')\n",
    "\n",
    "transformer = make_column_transformer(\n",
    "    (StandardScaler(), numerical_features),\n",
    "    (OneHotEncoder(handle_unknown='ignore'), categorical_features), sparse_threshold=0)\n",
    "transformed_data = transformer.fit_transform(x)\n",
    "\n",
    "feature_names = [name.split(\"__\")[-1] for name in transformer.get_feature_names_out()]\n",
    "X = pd.DataFrame(transformed_data, columns=feature_names)\n",
    "X_train, X_test, y_train, y_test = train_test_split(X, y, test_size=0.25, random_state=42)\n",
    "\n",
    "print(\"Training set size: \", len(X_train))\n",
    "print(\"Testing set size: \", len(X_test))\n",
    "\n",
    "print(\"\\nSelf made billionaires: \", len(wealth_df[wealth_df.selfMade == 1]))\n",
    "print(\"Inherited billionaires: \", len(wealth_df[wealth_df.selfMade == 0]))"
   ]
  },
  {
   "cell_type": "code",
   "execution_count": 8,
   "id": "c6d9fffe",
   "metadata": {
    "execution": {
     "iopub.execute_input": "2023-12-09T22:44:03.929026Z",
     "iopub.status.busy": "2023-12-09T22:44:03.928597Z",
     "iopub.status.idle": "2023-12-09T22:44:05.483483Z",
     "shell.execute_reply": "2023-12-09T22:44:05.482467Z"
    },
    "papermill": {
     "duration": 1.566452,
     "end_time": "2023-12-09T22:44:05.486166",
     "exception": false,
     "start_time": "2023-12-09T22:44:03.919714",
     "status": "completed"
    },
    "tags": []
   },
   "outputs": [
    {
     "name": "stdout",
     "output_type": "stream",
     "text": [
      "Accuracy: 77.12%\n",
      "              precision    recall  f1-score   support\n",
      "\n",
      "           0       0.67      0.57      0.62       213\n",
      "           1       0.81      0.87      0.84       447\n",
      "\n",
      "    accuracy                           0.77       660\n",
      "   macro avg       0.74      0.72      0.73       660\n",
      "weighted avg       0.76      0.77      0.77       660\n",
      "\n"
     ]
    }
   ],
   "source": [
    "clf = xgb.XGBClassifier(eval_metric=\"mlogloss\")\n",
    "clf.fit(X_train, y_train)\n",
    "\n",
    "y_pred = clf.predict(X_test)\n",
    "\n",
    "print(\"Accuracy: %.2f%%\" % (accuracy_score(y_test, y_pred) * 100.0))\n",
    "print(classification_report(y_test, y_pred))"
   ]
  },
  {
   "cell_type": "code",
   "execution_count": 9,
   "id": "69953a28",
   "metadata": {
    "execution": {
     "iopub.execute_input": "2023-12-09T22:44:05.504681Z",
     "iopub.status.busy": "2023-12-09T22:44:05.503999Z",
     "iopub.status.idle": "2023-12-09T22:44:05.513205Z",
     "shell.execute_reply": "2023-12-09T22:44:05.511837Z"
    },
    "papermill": {
     "duration": 0.022497,
     "end_time": "2023-12-09T22:44:05.516671",
     "exception": false,
     "start_time": "2023-12-09T22:44:05.494174",
     "status": "completed"
    },
    "tags": []
   },
   "outputs": [],
   "source": [
    "def objective(trial):\n",
    "    params = {\n",
    "        'max_depth': trial.suggest_int('max_depth', 1, 9),\n",
    "        'learning_rate': trial.suggest_float('learning_rate', 0.01, 1.0, log=True),\n",
    "        'n_estimators': trial.suggest_int('n_estimators', 50, 500),\n",
    "        'min_child_weight': trial.suggest_int('min_child_weight', 1, 10),\n",
    "        'gamma': trial.suggest_float('gamma', 1e-8, 1.0, log=True),\n",
    "        'subsample': trial.suggest_float('subsample', 0.01, 1.0, log=True),\n",
    "        'colsample_bytree': trial.suggest_float('colsample_bytree', 0.01, 1.0, log=True),\n",
    "        'reg_alpha': trial.suggest_float('reg_alpha', 1e-8, 1.0, log=True),\n",
    "        'reg_lambda': trial.suggest_float('reg_lambda', 1e-8, 1.0, log=True),\n",
    "        'eval_metric': 'mlogloss',\n",
    "        'use_label_encoder': False\n",
    "    }\n",
    "\n",
    "    optuna_model = xgb.XGBClassifier(**params)\n",
    "    optuna_model.fit(X_train, y_train)\n",
    "\n",
    "    y_pred = optuna_model.predict(X_test)\n",
    "\n",
    "    accuracy = accuracy_score(y_test, y_pred)\n",
    "    return accuracy"
   ]
  },
  {
   "cell_type": "code",
   "execution_count": 10,
   "id": "58a04cc3",
   "metadata": {
    "execution": {
     "iopub.execute_input": "2023-12-09T22:44:05.535141Z",
     "iopub.status.busy": "2023-12-09T22:44:05.534753Z",
     "iopub.status.idle": "2023-12-09T22:49:14.574713Z",
     "shell.execute_reply": "2023-12-09T22:49:14.573343Z"
    },
    "papermill": {
     "duration": 309.053358,
     "end_time": "2023-12-09T22:49:14.578334",
     "exception": false,
     "start_time": "2023-12-09T22:44:05.524976",
     "status": "completed"
    },
    "tags": []
   },
   "outputs": [
    {
     "data": {
      "application/vnd.jupyter.widget-view+json": {
       "model_id": "61c00b9aab094e2db96e79709917a56e",
       "version_major": 2,
       "version_minor": 0
      },
      "text/plain": [
       "  0%|          | 0/100 [00:00<?, ?it/s]"
      ]
     },
     "metadata": {},
     "output_type": "display_data"
    }
   ],
   "source": [
    "# Supress logging the results of each trial\n",
    "optuna.logging.set_verbosity(optuna.logging.WARNING)\n",
    "\n",
    "# Perform tuning\n",
    "study = optuna.create_study(direction='maximize')\n",
    "study.optimize(objective, n_trials=100, n_jobs=-1, gc_after_trial=True, show_progress_bar=True)"
   ]
  },
  {
   "cell_type": "code",
   "execution_count": 11,
   "id": "a47516e5",
   "metadata": {
    "execution": {
     "iopub.execute_input": "2023-12-09T22:49:14.597705Z",
     "iopub.status.busy": "2023-12-09T22:49:14.596413Z",
     "iopub.status.idle": "2023-12-09T22:49:14.634257Z",
     "shell.execute_reply": "2023-12-09T22:49:14.632960Z"
    },
    "papermill": {
     "duration": 0.050207,
     "end_time": "2023-12-09T22:49:14.637105",
     "exception": false,
     "start_time": "2023-12-09T22:49:14.586898",
     "status": "completed"
    },
    "tags": []
   },
   "outputs": [
    {
     "name": "stdout",
     "output_type": "stream",
     "text": [
      "Number of finished trials: 100\n",
      "Best trial:\n",
      "  Value: 0.8136363636363636\n",
      "  Params: \n",
      "    max_depth: 6\n",
      "    learning_rate: 0.07677810048081045\n",
      "    n_estimators: 283\n",
      "    min_child_weight: 7\n",
      "    gamma: 7.662476789240222e-05\n",
      "    subsample: 0.7622557834017039\n",
      "    colsample_bytree: 0.12892232214205013\n",
      "    reg_alpha: 0.9789465196453716\n",
      "    reg_lambda: 0.00016993337688892742\n"
     ]
    }
   ],
   "source": [
    "print('Number of finished trials: {}'.format(len(study.trials)))\n",
    "print('Best trial:')\n",
    "trial = study.best_trial\n",
    "\n",
    "print('  Value: {}'.format(trial.value))\n",
    "print('  Params: ')\n",
    "\n",
    "for key, value in trial.params.items():\n",
    "    print('    {}: {}'.format(key, value))"
   ]
  },
  {
   "cell_type": "code",
   "execution_count": 12,
   "id": "d99c8ea6",
   "metadata": {
    "execution": {
     "iopub.execute_input": "2023-12-09T22:49:14.655340Z",
     "iopub.status.busy": "2023-12-09T22:49:14.654890Z",
     "iopub.status.idle": "2023-12-09T22:49:17.761599Z",
     "shell.execute_reply": "2023-12-09T22:49:17.760204Z"
    },
    "papermill": {
     "duration": 3.119293,
     "end_time": "2023-12-09T22:49:17.764351",
     "exception": false,
     "start_time": "2023-12-09T22:49:14.645058",
     "status": "completed"
    },
    "tags": []
   },
   "outputs": [
    {
     "name": "stdout",
     "output_type": "stream",
     "text": [
      "Accuracy after tuning: 81.36%\n",
      "\n",
      "               precision    recall  f1-score   support\n",
      "\n",
      "           0       0.78      0.59      0.67       213\n",
      "           1       0.83      0.92      0.87       447\n",
      "\n",
      "    accuracy                           0.81       660\n",
      "   macro avg       0.80      0.76      0.77       660\n",
      "weighted avg       0.81      0.81      0.81       660\n",
      "\n"
     ]
    }
   ],
   "source": [
    "# Re-fit the model with the optimized parameters\n",
    "params = trial.params\n",
    "\n",
    "model = xgb.XGBClassifier(**params)\n",
    "model.fit(X_train, y_train)\n",
    "\n",
    "y_pred = model.predict(X_test)\n",
    "accuracy = accuracy_score(y_test, y_pred)\n",
    "\n",
    "print(\"Accuracy after tuning: %.2f%%\" % (accuracy * 100.0))\n",
    "print(\"\\n\",classification_report(y_test, y_pred))"
   ]
  },
  {
   "cell_type": "code",
   "execution_count": 13,
   "id": "71810e3c",
   "metadata": {
    "execution": {
     "iopub.execute_input": "2023-12-09T22:49:17.783714Z",
     "iopub.status.busy": "2023-12-09T22:49:17.783200Z",
     "iopub.status.idle": "2023-12-09T22:49:17.788680Z",
     "shell.execute_reply": "2023-12-09T22:49:17.787602Z"
    },
    "papermill": {
     "duration": 0.018106,
     "end_time": "2023-12-09T22:49:17.790985",
     "exception": false,
     "start_time": "2023-12-09T22:49:17.772879",
     "status": "completed"
    },
    "tags": []
   },
   "outputs": [],
   "source": [
    "# fig = optuna.visualization.plot_param_importances(study)\n",
    "# fig.show()"
   ]
  },
  {
   "cell_type": "code",
   "execution_count": 14,
   "id": "88f21766",
   "metadata": {
    "execution": {
     "iopub.execute_input": "2023-12-09T22:49:17.809299Z",
     "iopub.status.busy": "2023-12-09T22:49:17.808828Z",
     "iopub.status.idle": "2023-12-09T22:49:18.234149Z",
     "shell.execute_reply": "2023-12-09T22:49:18.232760Z"
    },
    "papermill": {
     "duration": 0.438192,
     "end_time": "2023-12-09T22:49:18.237312",
     "exception": false,
     "start_time": "2023-12-09T22:49:17.799120",
     "status": "completed"
    },
    "tags": []
   },
   "outputs": [
    {
     "data": {
      "image/png": "[encoded data removed]",
      "text/plain": [
       "<Figure size 640x480 with 1 Axes>"
      ]
     },
     "metadata": {},
     "output_type": "display_data"
    }
   ],
   "source": [
    "#Parameter tuning then re-run xgboost analysis with best params and take top ten mos timportance features\n",
    "xgb.plot_importance(model, max_num_features=10)\n",
    "plt.show()"
   ]
  },
  {
   "cell_type": "markdown",
   "id": "56a956c9",
   "metadata": {
    "papermill": {
     "duration": 0.008841,
     "end_time": "2023-12-09T22:49:18.255763",
     "exception": false,
     "start_time": "2023-12-09T22:49:18.246922",
     "status": "completed"
    },
    "tags": []
   },
   "source": [
    "<!-- https://www.aitimejournal.com/intro-to-classification-and-feature-selection-with-xgboost/2778/ -->"
   ]
  }
 ],
 "metadata": {
  "kaggle": {
   "accelerator": "none",
   "dataSources": [
    {
     "datasetId": 3795419,
     "sourceId": 6570253,
     "sourceType": "datasetVersion"
    }
   ],
   "dockerImageVersionId": 30587,
   "isGpuEnabled": false,
   "isInternetEnabled": true,
   "language": "python",
   "sourceType": "notebook"
  },
  "kernelspec": {
   "display_name": "Python 3",
   "language": "python",
   "name": "python3"
  },
  "language_info": {
   "codemirror_mode": {
    "name": "ipython",
    "version": 3
   },
   "file_extension": ".py",
   "mimetype": "text/x-python",
   "name": "python",
   "nbconvert_exporter": "python",
   "pygments_lexer": "ipython3",
   "version": "3.10.12"
  },
  "papermill": {
   "default_parameters": {},
   "duration": 323.631617,
   "end_time": "2023-12-09T22:49:19.090975",
   "environment_variables": {},
   "exception": null,
   "input_path": "__notebook__.ipynb",
   "output_path": "__notebook__.ipynb",
   "parameters": {},
   "start_time": "2023-12-09T22:43:55.459358",
   "version": "2.4.0"
  },
  "widgets": {
   "application/vnd.jupyter.widget-state+json": {
    "state": {
     "1fad198b175c4e698628156d04d6a14a": {
      "model_module": "@jupyter-widgets/base",
      "model_module_version": "1.2.0",
      "model_name": "LayoutModel",
      "state": {
       "_model_module": "@jupyter-widgets/base",
       "_model_module_version": "1.2.0",
       "_model_name": "LayoutModel",
       "_view_count": null,
       "_view_module": "@jupyter-widgets/base",
       "_view_module_version": "1.2.0",
       "_view_name": "LayoutView",
       "align_content": null,
       "align_items": null,
       "align_self": null,
       "border": null,
       "bottom": null,
       "display": null,
       "flex": null,
       "flex_flow": null,
       "grid_area": null,
       "grid_auto_columns": null,
       "grid_auto_flow": null,
       "grid_auto_rows": null,
       "grid_column": null,
       "grid_gap": null,
       "grid_row": null,
       "grid_template_areas": null,
       "grid_template_columns": null,
       "grid_template_rows": null,
       "height": null,
       "justify_content": null,
       "justify_items": null,
       "left": null,
       "margin": null,
       "max_height": null,
       "max_width": null,
       "min_height": null,
       "min_width": null,
       "object_fit": null,
       "object_position": null,
       "order": null,
       "overflow": null,
       "overflow_x": null,
       "overflow_y": null,
       "padding": null,
       "right": null,
       "top": null,
       "visibility": null,
       "width": null
      }
     },
     "3732cc781fe94c529d7a3d901d33438a": {
      "model_module": "@jupyter-widgets/controls",
      "model_module_version": "1.5.0",
      "model_name": "DescriptionStyleModel",
      "state": {
       "_model_module": "@jupyter-widgets/controls",
       "_model_module_version": "1.5.0",
       "_model_name": "DescriptionStyleModel",
       "_view_count": null,
       "_view_module": "@jupyter-widgets/base",
       "_view_module_version": "1.2.0",
       "_view_name": "StyleView",
       "description_width": ""
      }
     },
     "3f2806f97fa34a1f98b405e33af9db89": {
      "model_module": "@jupyter-widgets/controls",
      "model_module_version": "1.5.0",
      "model_name": "HTMLModel",
      "state": {
       "_dom_classes": [],
       "_model_module": "@jupyter-widgets/controls",
       "_model_module_version": "1.5.0",
       "_model_name": "HTMLModel",
       "_view_count": null,
       "_view_module": "@jupyter-widgets/controls",
       "_view_module_version": "1.5.0",
       "_view_name": "HTMLView",
       "description": "",
       "description_tooltip": null,
       "layout": "IPY_MODEL_a89729b82e5c436eaa5bcd393ad89c88",
       "placeholder": "​",
       "style": "IPY_MODEL_95cf4456ca00483cad2a480911f45989",
       "value": "Best trial: 80. Best value: 0.813636: 100%"
      }
     },
     "43a3d18e25254dedbdaf08d6599864c6": {
      "model_module": "@jupyter-widgets/controls",
      "model_module_version": "1.5.0",
      "model_name": "FloatProgressModel",
      "state": {
       "_dom_classes": [],
       "_model_module": "@jupyter-widgets/controls",
       "_model_module_version": "1.5.0",
       "_model_name": "FloatProgressModel",
       "_view_count": null,
       "_view_module": "@jupyter-widgets/controls",
       "_view_module_version": "1.5.0",
       "_view_name": "ProgressView",
       "bar_style": "success",
       "description": "",
       "description_tooltip": null,
       "layout": "IPY_MODEL_61f18e72ee274425abe27ee2b6c50e17",
       "max": 100.0,
       "min": 0.0,
       "orientation": "horizontal",
       "style": "IPY_MODEL_830683e11aff45b089d16bd3b80a2e32",
       "value": 100.0
      }
     },
     "61c00b9aab094e2db96e79709917a56e": {
      "model_module": "@jupyter-widgets/controls",
      "model_module_version": "1.5.0",
      "model_name": "HBoxModel",
      "state": {
       "_dom_classes": [],
       "_model_module": "@jupyter-widgets/controls",
       "_model_module_version": "1.5.0",
       "_model_name": "HBoxModel",
       "_view_count": null,
       "_view_module": "@jupyter-widgets/controls",
       "_view_module_version": "1.5.0",
       "_view_name": "HBoxView",
       "box_style": "",
       "children": [
        "IPY_MODEL_3f2806f97fa34a1f98b405e33af9db89",
        "IPY_MODEL_43a3d18e25254dedbdaf08d6599864c6",
        "IPY_MODEL_ba6c84d8775f4fb58719a3b186ee1e11"
       ],
       "layout": "IPY_MODEL_a18397d33c094524ad830ec45f082f42"
      }
     },
     "61f18e72ee274425abe27ee2b6c50e17": {
      "model_module": "@jupyter-widgets/base",
      "model_module_version": "1.2.0",
      "model_name": "LayoutModel",
      "state": {
       "_model_module": "@jupyter-widgets/base",
       "_model_module_version": "1.2.0",
       "_model_name": "LayoutModel",
       "_view_count": null,
       "_view_module": "@jupyter-widgets/base",
       "_view_module_version": "1.2.0",
       "_view_name": "LayoutView",
       "align_content": null,
       "align_items": null,
       "align_self": null,
       "border": null,
       "bottom": null,
       "display": null,
       "flex": null,
       "flex_flow": null,
       "grid_area": null,
       "grid_auto_columns": null,
       "grid_auto_flow": null,
       "grid_auto_rows": null,
       "grid_column": null,
       "grid_gap": null,
       "grid_row": null,
       "grid_template_areas": null,
       "grid_template_columns": null,
       "grid_template_rows": null,
       "height": null,
       "justify_content": null,
       "justify_items": null,
       "left": null,
       "margin": null,
       "max_height": null,
       "max_width": null,
       "min_height": null,
       "min_width": null,
       "object_fit": null,
       "object_position": null,
       "order": null,
       "overflow": null,
       "overflow_x": null,
       "overflow_y": null,
       "padding": null,
       "right": null,
       "top": null,
       "visibility": null,
       "width": null
      }
     },
     "830683e11aff45b089d16bd3b80a2e32": {
      "model_module": "@jupyter-widgets/controls",
      "model_module_version": "1.5.0",
      "model_name": "ProgressStyleModel",
      "state": {
       "_model_module": "@jupyter-widgets/controls",
       "_model_module_version": "1.5.0",
       "_model_name": "ProgressStyleModel",
       "_view_count": null,
       "_view_module": "@jupyter-widgets/base",
       "_view_module_version": "1.2.0",
       "_view_name": "StyleView",
       "bar_color": null,
       "description_width": ""
      }
     },
     "95cf4456ca00483cad2a480911f45989": {
      "model_module": "@jupyter-widgets/controls",
      "model_module_version": "1.5.0",
      "model_name": "DescriptionStyleModel",
      "state": {
       "_model_module": "@jupyter-widgets/controls",
       "_model_module_version": "1.5.0",
       "_model_name": "DescriptionStyleModel",
       "_view_count": null,
       "_view_module": "@jupyter-widgets/base",
       "_view_module_version": "1.2.0",
       "_view_name": "StyleView",
       "description_width": ""
      }
     },
     "a18397d33c094524ad830ec45f082f42": {
      "model_module": "@jupyter-widgets/base",
      "model_module_version": "1.2.0",
      "model_name": "LayoutModel",
      "state": {
       "_model_module": "@jupyter-widgets/base",
       "_model_module_version": "1.2.0",
       "_model_name": "LayoutModel",
       "_view_count": null,
       "_view_module": "@jupyter-widgets/base",
       "_view_module_version": "1.2.0",
       "_view_name": "LayoutView",
       "align_content": null,
       "align_items": null,
       "align_self": null,
       "border": null,
       "bottom": null,
       "display": null,
       "flex": null,
       "flex_flow": null,
       "grid_area": null,
       "grid_auto_columns": null,
       "grid_auto_flow": null,
       "grid_auto_rows": null,
       "grid_column": null,
       "grid_gap": null,
       "grid_row": null,
       "grid_template_areas": null,
       "grid_template_columns": null,
       "grid_template_rows": null,
       "height": null,
       "justify_content": null,
       "justify_items": null,
       "left": null,
       "margin": null,
       "max_height": null,
       "max_width": null,
       "min_height": null,
       "min_width": null,
       "object_fit": null,
       "object_position": null,
       "order": null,
       "overflow": null,
       "overflow_x": null,
       "overflow_y": null,
       "padding": null,
       "right": null,
       "top": null,
       "visibility": null,
       "width": null
      }
     },
     "a89729b82e5c436eaa5bcd393ad89c88": {
      "model_module": "@jupyter-widgets/base",
      "model_module_version": "1.2.0",
      "model_name": "LayoutModel",
      "state": {
       "_model_module": "@jupyter-widgets/base",
       "_model_module_version": "1.2.0",
       "_model_name": "LayoutModel",
       "_view_count": null,
       "_view_module": "@jupyter-widgets/base",
       "_view_module_version": "1.2.0",
       "_view_name": "LayoutView",
       "align_content": null,
       "align_items": null,
       "align_self": null,
       "border": null,
       "bottom": null,
       "display": null,
       "flex": null,
       "flex_flow": null,
       "grid_area": null,
       "grid_auto_columns": null,
       "grid_auto_flow": null,
       "grid_auto_rows": null,
       "grid_column": null,
       "grid_gap": null,
       "grid_row": null,
       "grid_template_areas": null,
       "grid_template_columns": null,
       "grid_template_rows": null,
       "height": null,
       "justify_content": null,
       "justify_items": null,
       "left": null,
       "margin": null,
       "max_height": null,
       "max_width": null,
       "min_height": null,
       "min_width": null,
       "object_fit": null,
       "object_position": null,
       "order": null,
       "overflow": null,
       "overflow_x": null,
       "overflow_y": null,
       "padding": null,
       "right": null,
       "top": null,
       "visibility": null,
       "width": null
      }
     },
     "ba6c84d8775f4fb58719a3b186ee1e11": {
      "model_module": "@jupyter-widgets/controls",
      "model_module_version": "1.5.0",
      "model_name": "HTMLModel",
      "state": {
       "_dom_classes": [],
       "_model_module": "@jupyter-widgets/controls",
       "_model_module_version": "1.5.0",
       "_model_name": "HTMLModel",
       "_view_count": null,
       "_view_module": "@jupyter-widgets/controls",
       "_view_module_version": "1.5.0",
       "_view_name": "HTMLView",
       "description": "",
       "description_tooltip": null,
       "layout": "IPY_MODEL_1fad198b175c4e698628156d04d6a14a",
       "placeholder": "​",
       "style": "IPY_MODEL_3732cc781fe94c529d7a3d901d33438a",
       "value": " 100/100 [05:09&lt;00:00,  1.82s/it]"
      }
     }
    },
    "version_major": 2,
    "version_minor": 0
   }
  }
 },
 "nbformat": 4,
 "nbformat_minor": 5
}
