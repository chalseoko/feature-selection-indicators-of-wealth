{
 "cells": [
  {
   "cell_type": "code",
   "execution_count": 1,
   "id": "46b40730",
   "metadata": {
    "_cell_guid": "b1076dfc-b9ad-4769-8c92-a6c4dae69d19",
    "_uuid": "8f2839f25d086af736a60e9eeb907d3b93b6e0e5",
    "execution": {
     "iopub.execute_input": "2023-12-07T23:27:57.637605Z",
     "iopub.status.busy": "2023-12-07T23:27:57.637203Z",
     "iopub.status.idle": "2023-12-07T23:28:00.329160Z",
     "shell.execute_reply": "2023-12-07T23:28:00.327703Z"
    },
    "papermill": {
     "duration": 2.699166,
     "end_time": "2023-12-07T23:28:00.331635",
     "exception": false,
     "start_time": "2023-12-07T23:27:57.632469",
     "status": "completed"
    },
    "tags": []
   },
   "outputs": [],
   "source": [
    "import pandas as pd\n",
    "import numpy as np\n",
    "\n",
    "import altair as alt\n",
    "import matplotlib.pyplot as plt\n",
    "\n",
    "from sklearn.compose import make_column_transformer\n",
    "from sklearn.feature_selection import RFECV\n",
    "from sklearn.linear_model import LogisticRegression\n",
    "from sklearn.model_selection import train_test_split, StratifiedKFold\n",
    "from sklearn.preprocessing import OneHotEncoder, StandardScaler"
   ]
  },
  {
   "cell_type": "markdown",
   "id": "09cde8eb",
   "metadata": {
    "papermill": {
     "duration": 0.002428,
     "end_time": "2023-12-07T23:28:00.338884",
     "exception": false,
     "start_time": "2023-12-07T23:28:00.336456",
     "status": "completed"
    },
    "tags": []
   },
   "source": [
    "# Feature Importance: Indicators of Wealth (US vs. World)"
   ]
  },
  {
   "cell_type": "code",
   "execution_count": 2,
   "id": "bb14da77",
   "metadata": {
    "execution": {
     "iopub.execute_input": "2023-12-07T23:28:00.345980Z",
     "iopub.status.busy": "2023-12-07T23:28:00.345428Z",
     "iopub.status.idle": "2023-12-07T23:28:00.417493Z",
     "shell.execute_reply": "2023-12-07T23:28:00.416111Z"
    },
    "papermill": {
     "duration": 0.078623,
     "end_time": "2023-12-07T23:28:00.420121",
     "exception": false,
     "start_time": "2023-12-07T23:28:00.341498",
     "status": "completed"
    },
    "tags": []
   },
   "outputs": [
    {
     "name": "stdout",
     "output_type": "stream",
     "text": [
      "\n",
      "Billionaires in the world:  2640\n",
      "Countries with billionaires:  78\n",
      "\n",
      "All Features:  \n",
      " ['rank' 'finalWorth' 'category' 'personName' 'age' 'country' 'city'\n",
      " 'source' 'industries' 'countryOfCitizenship' 'organization' 'selfMade'\n",
      " 'status' 'gender' 'birthDate' 'lastName' 'firstName' 'title' 'state'\n",
      " 'residenceStateRegion' 'birthYear' 'birthMonth' 'birthDay' 'cpi_country'\n",
      " 'cpi_change_country' 'gdp_country' 'gross_tertiary_education_enrollment'\n",
      " 'gross_primary_education_enrollment_country' 'life_expectancy_country'\n",
      " 'tax_revenue_country_country' 'total_tax_rate_country'\n",
      " 'population_country' 'latitude_country' 'longitude_country']\n"
     ]
    }
   ],
   "source": [
    "df = pd.read_csv(filepath_or_buffer='/kaggle/input/billionaires-statistics-dataset/Billionaires Statistics Dataset.csv')\n",
    "df.drop(['date'], inplace=True, axis=1)\n",
    "\n",
    "print(\"\\nBillionaires in the world: \", len(df))\n",
    "billionaires_by_country = df.groupby(['country'])['personName'].count().sort_values(ascending=False)\n",
    "print(\"Countries with billionaires: \", len(billionaires_by_country))\n",
    "\n",
    "print(\"\\nAll Features: \", \"\\n\", df.columns.values)"
   ]
  },
  {
   "cell_type": "code",
   "execution_count": 3,
   "id": "4c83c4a9",
   "metadata": {
    "execution": {
     "iopub.execute_input": "2023-12-07T23:28:00.428175Z",
     "iopub.status.busy": "2023-12-07T23:28:00.427799Z",
     "iopub.status.idle": "2023-12-07T23:28:00.475589Z",
     "shell.execute_reply": "2023-12-07T23:28:00.474852Z"
    },
    "papermill": {
     "duration": 0.053618,
     "end_time": "2023-12-07T23:28:00.477217",
     "exception": false,
     "start_time": "2023-12-07T23:28:00.423599",
     "status": "completed"
    },
    "tags": []
   },
   "outputs": [
    {
     "name": "stdout",
     "output_type": "stream",
     "text": [
      "Categorical Data Summary: \n"
     ]
    },
    {
     "data": {
      "text/html": [
       "<div>\n",
       "<style scoped>\n",
       "    .dataframe tbody tr th:only-of-type {\n",
       "        vertical-align: middle;\n",
       "    }\n",
       "\n",
       "    .dataframe tbody tr th {\n",
       "        vertical-align: top;\n",
       "    }\n",
       "\n",
       "    .dataframe thead th {\n",
       "        text-align: right;\n",
       "    }\n",
       "</style>\n",
       "<table border=\"1\" class=\"dataframe\">\n",
       "  <thead>\n",
       "    <tr style=\"text-align: right;\">\n",
       "      <th></th>\n",
       "      <th>count</th>\n",
       "      <th>unique</th>\n",
       "      <th>top</th>\n",
       "      <th>freq</th>\n",
       "    </tr>\n",
       "  </thead>\n",
       "  <tbody>\n",
       "    <tr>\n",
       "      <th>category</th>\n",
       "      <td>2640</td>\n",
       "      <td>18</td>\n",
       "      <td>Finance &amp; Investments</td>\n",
       "      <td>372</td>\n",
       "    </tr>\n",
       "    <tr>\n",
       "      <th>personName</th>\n",
       "      <td>2640</td>\n",
       "      <td>2638</td>\n",
       "      <td>Wang Yanqing &amp; family</td>\n",
       "      <td>2</td>\n",
       "    </tr>\n",
       "    <tr>\n",
       "      <th>country</th>\n",
       "      <td>2602</td>\n",
       "      <td>78</td>\n",
       "      <td>United States</td>\n",
       "      <td>754</td>\n",
       "    </tr>\n",
       "    <tr>\n",
       "      <th>city</th>\n",
       "      <td>2568</td>\n",
       "      <td>741</td>\n",
       "      <td>New York</td>\n",
       "      <td>99</td>\n",
       "    </tr>\n",
       "    <tr>\n",
       "      <th>source</th>\n",
       "      <td>2640</td>\n",
       "      <td>906</td>\n",
       "      <td>Real estate</td>\n",
       "      <td>151</td>\n",
       "    </tr>\n",
       "    <tr>\n",
       "      <th>industries</th>\n",
       "      <td>2640</td>\n",
       "      <td>18</td>\n",
       "      <td>Finance &amp; Investments</td>\n",
       "      <td>372</td>\n",
       "    </tr>\n",
       "    <tr>\n",
       "      <th>countryOfCitizenship</th>\n",
       "      <td>2640</td>\n",
       "      <td>77</td>\n",
       "      <td>United States</td>\n",
       "      <td>735</td>\n",
       "    </tr>\n",
       "    <tr>\n",
       "      <th>organization</th>\n",
       "      <td>325</td>\n",
       "      <td>294</td>\n",
       "      <td>Meta Platforms</td>\n",
       "      <td>4</td>\n",
       "    </tr>\n",
       "    <tr>\n",
       "      <th>selfMade</th>\n",
       "      <td>2640</td>\n",
       "      <td>2</td>\n",
       "      <td>True</td>\n",
       "      <td>1812</td>\n",
       "    </tr>\n",
       "    <tr>\n",
       "      <th>status</th>\n",
       "      <td>2640</td>\n",
       "      <td>6</td>\n",
       "      <td>D</td>\n",
       "      <td>1223</td>\n",
       "    </tr>\n",
       "    <tr>\n",
       "      <th>gender</th>\n",
       "      <td>2640</td>\n",
       "      <td>2</td>\n",
       "      <td>M</td>\n",
       "      <td>2303</td>\n",
       "    </tr>\n",
       "    <tr>\n",
       "      <th>birthDate</th>\n",
       "      <td>2564</td>\n",
       "      <td>2060</td>\n",
       "      <td>1/1/1965 0:00</td>\n",
       "      <td>19</td>\n",
       "    </tr>\n",
       "    <tr>\n",
       "      <th>lastName</th>\n",
       "      <td>2640</td>\n",
       "      <td>1736</td>\n",
       "      <td>Li</td>\n",
       "      <td>44</td>\n",
       "    </tr>\n",
       "    <tr>\n",
       "      <th>firstName</th>\n",
       "      <td>2637</td>\n",
       "      <td>1770</td>\n",
       "      <td>John</td>\n",
       "      <td>40</td>\n",
       "    </tr>\n",
       "    <tr>\n",
       "      <th>title</th>\n",
       "      <td>339</td>\n",
       "      <td>97</td>\n",
       "      <td>Investor</td>\n",
       "      <td>44</td>\n",
       "    </tr>\n",
       "    <tr>\n",
       "      <th>state</th>\n",
       "      <td>753</td>\n",
       "      <td>45</td>\n",
       "      <td>California</td>\n",
       "      <td>178</td>\n",
       "    </tr>\n",
       "    <tr>\n",
       "      <th>residenceStateRegion</th>\n",
       "      <td>747</td>\n",
       "      <td>5</td>\n",
       "      <td>West</td>\n",
       "      <td>248</td>\n",
       "    </tr>\n",
       "    <tr>\n",
       "      <th>gdp_country</th>\n",
       "      <td>2476</td>\n",
       "      <td>68</td>\n",
       "      <td>$21,427,700,000,000</td>\n",
       "      <td>754</td>\n",
       "    </tr>\n",
       "  </tbody>\n",
       "</table>\n",
       "</div>"
      ],
      "text/plain": [
       "                     count unique                    top  freq\n",
       "category              2640     18  Finance & Investments   372\n",
       "personName            2640   2638  Wang Yanqing & family     2\n",
       "country               2602     78          United States   754\n",
       "city                  2568    741               New York    99\n",
       "source                2640    906            Real estate   151\n",
       "industries            2640     18  Finance & Investments   372\n",
       "countryOfCitizenship  2640     77          United States   735\n",
       "organization           325    294         Meta Platforms     4\n",
       "selfMade              2640      2                   True  1812\n",
       "status                2640      6                      D  1223\n",
       "gender                2640      2                      M  2303\n",
       "birthDate             2564   2060          1/1/1965 0:00    19\n",
       "lastName              2640   1736                     Li    44\n",
       "firstName             2637   1770                   John    40\n",
       "title                  339     97               Investor    44\n",
       "state                  753     45             California   178\n",
       "residenceStateRegion   747      5                   West   248\n",
       "gdp_country           2476     68   $21,427,700,000,000    754"
      ]
     },
     "execution_count": 3,
     "metadata": {},
     "output_type": "execute_result"
    }
   ],
   "source": [
    "print(\"Categorical Data Summary: \")\n",
    "df.select_dtypes(['O', 'bool']).describe().T"
   ]
  },
  {
   "cell_type": "code",
   "execution_count": 4,
   "id": "08d814dc",
   "metadata": {
    "execution": {
     "iopub.execute_input": "2023-12-07T23:28:00.485463Z",
     "iopub.status.busy": "2023-12-07T23:28:00.484636Z",
     "iopub.status.idle": "2023-12-07T23:28:00.530748Z",
     "shell.execute_reply": "2023-12-07T23:28:00.529881Z"
    },
    "papermill": {
     "duration": 0.052424,
     "end_time": "2023-12-07T23:28:00.533009",
     "exception": false,
     "start_time": "2023-12-07T23:28:00.480585",
     "status": "completed"
    },
    "tags": []
   },
   "outputs": [
    {
     "name": "stdout",
     "output_type": "stream",
     "text": [
      "Numerical Data Summary: \n"
     ]
    },
    {
     "data": {
      "text/html": [
       "<div>\n",
       "<style scoped>\n",
       "    .dataframe tbody tr th:only-of-type {\n",
       "        vertical-align: middle;\n",
       "    }\n",
       "\n",
       "    .dataframe tbody tr th {\n",
       "        vertical-align: top;\n",
       "    }\n",
       "\n",
       "    .dataframe thead th {\n",
       "        text-align: right;\n",
       "    }\n",
       "</style>\n",
       "<table border=\"1\" class=\"dataframe\">\n",
       "  <thead>\n",
       "    <tr style=\"text-align: right;\">\n",
       "      <th></th>\n",
       "      <th>count</th>\n",
       "      <th>mean</th>\n",
       "      <th>std</th>\n",
       "      <th>min</th>\n",
       "      <th>50%</th>\n",
       "      <th>max</th>\n",
       "    </tr>\n",
       "  </thead>\n",
       "  <tbody>\n",
       "    <tr>\n",
       "      <th>rank</th>\n",
       "      <td>2640.0</td>\n",
       "      <td>1.289159e+03</td>\n",
       "      <td>7.396937e+02</td>\n",
       "      <td>1.000000</td>\n",
       "      <td>1.312000e+03</td>\n",
       "      <td>2.540000e+03</td>\n",
       "    </tr>\n",
       "    <tr>\n",
       "      <th>finalWorth</th>\n",
       "      <td>2640.0</td>\n",
       "      <td>4.623788e+03</td>\n",
       "      <td>9.834241e+03</td>\n",
       "      <td>1000.000000</td>\n",
       "      <td>2.300000e+03</td>\n",
       "      <td>2.110000e+05</td>\n",
       "    </tr>\n",
       "    <tr>\n",
       "      <th>age</th>\n",
       "      <td>2575.0</td>\n",
       "      <td>6.514019e+01</td>\n",
       "      <td>1.325810e+01</td>\n",
       "      <td>18.000000</td>\n",
       "      <td>6.500000e+01</td>\n",
       "      <td>1.010000e+02</td>\n",
       "    </tr>\n",
       "    <tr>\n",
       "      <th>birthYear</th>\n",
       "      <td>2564.0</td>\n",
       "      <td>1.957183e+03</td>\n",
       "      <td>1.328252e+01</td>\n",
       "      <td>1921.000000</td>\n",
       "      <td>1.957000e+03</td>\n",
       "      <td>2.004000e+03</td>\n",
       "    </tr>\n",
       "    <tr>\n",
       "      <th>birthMonth</th>\n",
       "      <td>2564.0</td>\n",
       "      <td>5.740250e+00</td>\n",
       "      <td>3.710085e+00</td>\n",
       "      <td>1.000000</td>\n",
       "      <td>6.000000e+00</td>\n",
       "      <td>1.200000e+01</td>\n",
       "    </tr>\n",
       "    <tr>\n",
       "      <th>birthDay</th>\n",
       "      <td>2564.0</td>\n",
       "      <td>1.209984e+01</td>\n",
       "      <td>9.918876e+00</td>\n",
       "      <td>1.000000</td>\n",
       "      <td>1.100000e+01</td>\n",
       "      <td>3.100000e+01</td>\n",
       "    </tr>\n",
       "    <tr>\n",
       "      <th>cpi_country</th>\n",
       "      <td>2456.0</td>\n",
       "      <td>1.277552e+02</td>\n",
       "      <td>2.645295e+01</td>\n",
       "      <td>99.550000</td>\n",
       "      <td>1.172400e+02</td>\n",
       "      <td>2.885700e+02</td>\n",
       "    </tr>\n",
       "    <tr>\n",
       "      <th>cpi_change_country</th>\n",
       "      <td>2456.0</td>\n",
       "      <td>4.364169e+00</td>\n",
       "      <td>3.623763e+00</td>\n",
       "      <td>-1.900000</td>\n",
       "      <td>2.900000e+00</td>\n",
       "      <td>5.350000e+01</td>\n",
       "    </tr>\n",
       "    <tr>\n",
       "      <th>gross_tertiary_education_enrollment</th>\n",
       "      <td>2458.0</td>\n",
       "      <td>6.722567e+01</td>\n",
       "      <td>2.134343e+01</td>\n",
       "      <td>4.000000</td>\n",
       "      <td>6.560000e+01</td>\n",
       "      <td>1.366000e+02</td>\n",
       "    </tr>\n",
       "    <tr>\n",
       "      <th>gross_primary_education_enrollment_country</th>\n",
       "      <td>2459.0</td>\n",
       "      <td>1.028585e+02</td>\n",
       "      <td>4.710977e+00</td>\n",
       "      <td>84.700000</td>\n",
       "      <td>1.018000e+02</td>\n",
       "      <td>1.421000e+02</td>\n",
       "    </tr>\n",
       "    <tr>\n",
       "      <th>life_expectancy_country</th>\n",
       "      <td>2458.0</td>\n",
       "      <td>7.812282e+01</td>\n",
       "      <td>3.730099e+00</td>\n",
       "      <td>54.300000</td>\n",
       "      <td>7.850000e+01</td>\n",
       "      <td>8.420000e+01</td>\n",
       "    </tr>\n",
       "    <tr>\n",
       "      <th>tax_revenue_country_country</th>\n",
       "      <td>2457.0</td>\n",
       "      <td>1.254624e+01</td>\n",
       "      <td>5.368625e+00</td>\n",
       "      <td>0.100000</td>\n",
       "      <td>9.600000e+00</td>\n",
       "      <td>3.720000e+01</td>\n",
       "    </tr>\n",
       "    <tr>\n",
       "      <th>total_tax_rate_country</th>\n",
       "      <td>2458.0</td>\n",
       "      <td>4.396334e+01</td>\n",
       "      <td>1.214530e+01</td>\n",
       "      <td>9.900000</td>\n",
       "      <td>4.120000e+01</td>\n",
       "      <td>1.063000e+02</td>\n",
       "    </tr>\n",
       "    <tr>\n",
       "      <th>population_country</th>\n",
       "      <td>2476.0</td>\n",
       "      <td>5.102053e+08</td>\n",
       "      <td>5.542447e+08</td>\n",
       "      <td>38019.000000</td>\n",
       "      <td>3.282395e+08</td>\n",
       "      <td>1.397715e+09</td>\n",
       "    </tr>\n",
       "    <tr>\n",
       "      <th>latitude_country</th>\n",
       "      <td>2476.0</td>\n",
       "      <td>3.490359e+01</td>\n",
       "      <td>1.700350e+01</td>\n",
       "      <td>-40.900557</td>\n",
       "      <td>3.709024e+01</td>\n",
       "      <td>6.192411e+01</td>\n",
       "    </tr>\n",
       "    <tr>\n",
       "      <th>longitude_country</th>\n",
       "      <td>2476.0</td>\n",
       "      <td>1.258316e+01</td>\n",
       "      <td>8.676299e+01</td>\n",
       "      <td>-106.346771</td>\n",
       "      <td>1.045153e+01</td>\n",
       "      <td>1.748860e+02</td>\n",
       "    </tr>\n",
       "  </tbody>\n",
       "</table>\n",
       "</div>"
      ],
      "text/plain": [
       "                                             count          mean  \\\n",
       "rank                                        2640.0  1.289159e+03   \n",
       "finalWorth                                  2640.0  4.623788e+03   \n",
       "age                                         2575.0  6.514019e+01   \n",
       "birthYear                                   2564.0  1.957183e+03   \n",
       "birthMonth                                  2564.0  5.740250e+00   \n",
       "birthDay                                    2564.0  1.209984e+01   \n",
       "cpi_country                                 2456.0  1.277552e+02   \n",
       "cpi_change_country                          2456.0  4.364169e+00   \n",
       "gross_tertiary_education_enrollment         2458.0  6.722567e+01   \n",
       "gross_primary_education_enrollment_country  2459.0  1.028585e+02   \n",
       "life_expectancy_country                     2458.0  7.812282e+01   \n",
       "tax_revenue_country_country                 2457.0  1.254624e+01   \n",
       "total_tax_rate_country                      2458.0  4.396334e+01   \n",
       "population_country                          2476.0  5.102053e+08   \n",
       "latitude_country                            2476.0  3.490359e+01   \n",
       "longitude_country                           2476.0  1.258316e+01   \n",
       "\n",
       "                                                     std           min  \\\n",
       "rank                                        7.396937e+02      1.000000   \n",
       "finalWorth                                  9.834241e+03   1000.000000   \n",
       "age                                         1.325810e+01     18.000000   \n",
       "birthYear                                   1.328252e+01   1921.000000   \n",
       "birthMonth                                  3.710085e+00      1.000000   \n",
       "birthDay                                    9.918876e+00      1.000000   \n",
       "cpi_country                                 2.645295e+01     99.550000   \n",
       "cpi_change_country                          3.623763e+00     -1.900000   \n",
       "gross_tertiary_education_enrollment         2.134343e+01      4.000000   \n",
       "gross_primary_education_enrollment_country  4.710977e+00     84.700000   \n",
       "life_expectancy_country                     3.730099e+00     54.300000   \n",
       "tax_revenue_country_country                 5.368625e+00      0.100000   \n",
       "total_tax_rate_country                      1.214530e+01      9.900000   \n",
       "population_country                          5.542447e+08  38019.000000   \n",
       "latitude_country                            1.700350e+01    -40.900557   \n",
       "longitude_country                           8.676299e+01   -106.346771   \n",
       "\n",
       "                                                     50%           max  \n",
       "rank                                        1.312000e+03  2.540000e+03  \n",
       "finalWorth                                  2.300000e+03  2.110000e+05  \n",
       "age                                         6.500000e+01  1.010000e+02  \n",
       "birthYear                                   1.957000e+03  2.004000e+03  \n",
       "birthMonth                                  6.000000e+00  1.200000e+01  \n",
       "birthDay                                    1.100000e+01  3.100000e+01  \n",
       "cpi_country                                 1.172400e+02  2.885700e+02  \n",
       "cpi_change_country                          2.900000e+00  5.350000e+01  \n",
       "gross_tertiary_education_enrollment         6.560000e+01  1.366000e+02  \n",
       "gross_primary_education_enrollment_country  1.018000e+02  1.421000e+02  \n",
       "life_expectancy_country                     7.850000e+01  8.420000e+01  \n",
       "tax_revenue_country_country                 9.600000e+00  3.720000e+01  \n",
       "total_tax_rate_country                      4.120000e+01  1.063000e+02  \n",
       "population_country                          3.282395e+08  1.397715e+09  \n",
       "latitude_country                            3.709024e+01  6.192411e+01  \n",
       "longitude_country                           1.045153e+01  1.748860e+02  "
      ]
     },
     "execution_count": 4,
     "metadata": {},
     "output_type": "execute_result"
    }
   ],
   "source": [
    "print(\"Numerical Data Summary: \")\n",
    "df.describe(percentiles=[]).T"
   ]
  },
  {
   "cell_type": "markdown",
   "id": "459c3e37",
   "metadata": {
    "papermill": {
     "duration": 0.003222,
     "end_time": "2023-12-07T23:28:00.539920",
     "exception": false,
     "start_time": "2023-12-07T23:28:00.536698",
     "status": "completed"
    },
    "tags": []
   },
   "source": [
    "Features removed  && Why???\n",
    "\n",
    "\n",
    "* km"
   ]
  },
  {
   "cell_type": "code",
   "execution_count": 5,
   "id": "e7f5da44",
   "metadata": {
    "execution": {
     "iopub.execute_input": "2023-12-07T23:28:00.548053Z",
     "iopub.status.busy": "2023-12-07T23:28:00.547598Z",
     "iopub.status.idle": "2023-12-07T23:28:00.594700Z",
     "shell.execute_reply": "2023-12-07T23:28:00.593425Z"
    },
    "papermill": {
     "duration": 0.053835,
     "end_time": "2023-12-07T23:28:00.597076",
     "exception": false,
     "start_time": "2023-12-07T23:28:00.543241",
     "status": "completed"
    },
    "tags": []
   },
   "outputs": [
    {
     "name": "stdout",
     "output_type": "stream",
     "text": [
      "Numerical Features:\n",
      "['finalWorth' 'age' 'birthYear' 'cpi_country' 'cpi_change_country'\n",
      " 'gdp_country' 'gross_tertiary_education_enrollment'\n",
      " 'gross_primary_education_enrollment_country' 'life_expectancy_country'\n",
      " 'tax_revenue_country_country' 'total_tax_rate_country'\n",
      " 'population_country']\n",
      "\n",
      "Categorical Features:\n",
      "['category' 'country' 'city' 'industries' 'countryOfCitizenship' 'gender'\n",
      " 'state']\n"
     ]
    }
   ],
   "source": [
    "wealth_df = df.drop([\"rank\", \"personName\", \"source\", \"organization\", \"title\", \"status\", \"birthDate\", \"firstName\", \"lastName\",\n",
    "                    \"longitude_country\", \"latitude_country\", \"birthMonth\", \"birthDay\", \"residenceStateRegion\"], axis=1)\n",
    "wealth_df['gdp_country'] = wealth_df['gdp_country'].str.replace('$','').replace(',','', regex=True).astype(float)\n",
    "wealth_df = wealth_df.dropna()\n",
    "\n",
    "print(\"Numerical Features:\")\n",
    "numerical_features = wealth_df.describe(include=np.number).columns.values\n",
    "print(numerical_features)\n",
    "\n",
    "print(\"\\nCategorical Features:\")\n",
    "categorical_features = wealth_df.describe(include=['O']).columns.values\n",
    "print(categorical_features)"
   ]
  },
  {
   "cell_type": "code",
   "execution_count": 6,
   "id": "f6332697",
   "metadata": {
    "execution": {
     "iopub.execute_input": "2023-12-07T23:28:00.607168Z",
     "iopub.status.busy": "2023-12-07T23:28:00.606007Z",
     "iopub.status.idle": "2023-12-07T23:28:00.634805Z",
     "shell.execute_reply": "2023-12-07T23:28:00.633277Z"
    },
    "papermill": {
     "duration": 0.035707,
     "end_time": "2023-12-07T23:28:00.636774",
     "exception": false,
     "start_time": "2023-12-07T23:28:00.601067",
     "status": "completed"
    },
    "tags": []
   },
   "outputs": [
    {
     "name": "stdout",
     "output_type": "stream",
     "text": [
      "Training set size:  562\n",
      "Testing set size:  188\n",
      "\n",
      "Self made billionaires:  537\n",
      "Inherited billionaires:  213\n"
     ]
    }
   ],
   "source": [
    "x = wealth_df.drop(columns=['selfMade'])\n",
    "y = wealth_df.selfMade.astype('int')\n",
    "\n",
    "transformer = make_column_transformer(\n",
    "    (StandardScaler(), numerical_features),\n",
    "    (OneHotEncoder(handle_unknown='ignore'), categorical_features), sparse_threshold=0)\n",
    "transformed_data = transformer.fit_transform(x)\n",
    "\n",
    "feature_names = [name.split(\"__\")[-1] for name in transformer.get_feature_names_out()]\n",
    "X = pd.DataFrame(transformed_data, columns=feature_names)\n",
    "X_train, X_test, y_train, y_test = train_test_split(X, y, test_size=0.25, random_state=42)\n",
    "\n",
    "print(\"Training set size: \", len(X_train))\n",
    "print(\"Testing set size: \", len(X_test))\n",
    "\n",
    "print(\"\\nSelf made billionaires: \", len(wealth_df[wealth_df.selfMade == 1]))\n",
    "print(\"Inherited billionaires: \", len(wealth_df[wealth_df.selfMade == 0]))"
   ]
  },
  {
   "cell_type": "code",
   "execution_count": 7,
   "id": "98f71e5c",
   "metadata": {
    "execution": {
     "iopub.execute_input": "2023-12-07T23:28:00.645270Z",
     "iopub.status.busy": "2023-12-07T23:28:00.644938Z",
     "iopub.status.idle": "2023-12-07T23:28:18.145745Z",
     "shell.execute_reply": "2023-12-07T23:28:18.144694Z"
    },
    "papermill": {
     "duration": 17.507281,
     "end_time": "2023-12-07T23:28:18.147799",
     "exception": false,
     "start_time": "2023-12-07T23:28:00.640518",
     "status": "completed"
    },
    "tags": []
   },
   "outputs": [
    {
     "name": "stdout",
     "output_type": "stream",
     "text": [
      "2\n"
     ]
    }
   ],
   "source": [
    "rfe_cv = RFECV(\n",
    "    estimator=LogisticRegression(),\n",
    "    step=1,\n",
    "    cv=StratifiedKFold(5),\n",
    "    scoring=\"accuracy\",\n",
    "    min_features_to_select=1,\n",
    "    n_jobs=-1\n",
    ")\n",
    "\n",
    "rfe_cv.fit(X,y)\n",
    "print(rfe_cv.n_features_)"
   ]
  },
  {
   "cell_type": "code",
   "execution_count": 8,
   "id": "e44c9a1a",
   "metadata": {
    "execution": {
     "iopub.execute_input": "2023-12-07T23:28:18.158653Z",
     "iopub.status.busy": "2023-12-07T23:28:18.158317Z",
     "iopub.status.idle": "2023-12-07T23:28:18.432218Z",
     "shell.execute_reply": "2023-12-07T23:28:18.431554Z"
    },
    "papermill": {
     "duration": 0.281411,
     "end_time": "2023-12-07T23:28:18.433891",
     "exception": false,
     "start_time": "2023-12-07T23:28:18.152480",
     "status": "completed"
    },
    "tags": []
   },
   "outputs": [
    {
     "data": {
      "image/png": "[encoded data removed]",
      "text/plain": [
       "<Figure size 640x480 with 1 Axes>"
      ]
     },
     "metadata": {},
     "output_type": "display_data"
    }
   ],
   "source": [
    "n_scores = len(rfe_cv.cv_results_[\"mean_test_score\"])\n",
    "plt.figure()\n",
    "plt.xlabel(\"Number of features selected\")\n",
    "plt.ylabel(\"Mean test accuracy\")\n",
    "plt.errorbar(\n",
    "    range(1, n_scores + 1),\n",
    "    rfe_cv.cv_results_[\"mean_test_score\"],\n",
    "    yerr=rfe_cv.cv_results_[\"std_test_score\"],\n",
    ")\n",
    "plt.title(\"Recursive Feature Elimination \\nwith correlated features\")\n",
    "plt.show()"
   ]
  }
 ],
 "metadata": {
  "kaggle": {
   "accelerator": "none",
   "dataSources": [
    {
     "datasetId": 3795419,
     "sourceId": 6570253,
     "sourceType": "datasetVersion"
    }
   ],
   "dockerImageVersionId": 30587,
   "isGpuEnabled": false,
   "isInternetEnabled": true,
   "language": "python",
   "sourceType": "notebook"
  },
  "kernelspec": {
   "display_name": "Python 3",
   "language": "python",
   "name": "python3"
  },
  "language_info": {
   "codemirror_mode": {
    "name": "ipython",
    "version": 3
   },
   "file_extension": ".py",
   "mimetype": "text/x-python",
   "name": "python",
   "nbconvert_exporter": "python",
   "pygments_lexer": "ipython3",
   "version": "3.10.12"
  },
  "papermill": {
   "default_parameters": {},
   "duration": 26.361413,
   "end_time": "2023-12-07T23:28:21.058704",
   "environment_variables": {},
   "exception": null,
   "input_path": "__notebook__.ipynb",
   "output_path": "__notebook__.ipynb",
   "parameters": {},
   "start_time": "2023-12-07T23:27:54.697291",
   "version": "2.4.0"
  }
 },
 "nbformat": 4,
 "nbformat_minor": 5
}
